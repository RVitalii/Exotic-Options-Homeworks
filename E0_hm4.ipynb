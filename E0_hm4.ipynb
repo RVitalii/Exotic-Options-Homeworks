{
 "cells": [
  {
   "cell_type": "code",
   "execution_count": 27,
   "metadata": {},
   "outputs": [],
   "source": [
    "#Importing packages \n",
    "import pandas as pd\n",
    "import numpy as np\n",
    "import matplotlib.pyplot as plt\n",
    "from scipy.stats import norm\n",
    "import yfinance as yf"
   ]
  },
  {
   "cell_type": "code",
   "execution_count": 3,
   "metadata": {},
   "outputs": [
    {
     "data": {
      "text/html": [
       "<div>\n",
       "<style scoped>\n",
       "    .dataframe tbody tr th:only-of-type {\n",
       "        vertical-align: middle;\n",
       "    }\n",
       "\n",
       "    .dataframe tbody tr th {\n",
       "        vertical-align: top;\n",
       "    }\n",
       "\n",
       "    .dataframe thead th {\n",
       "        text-align: right;\n",
       "    }\n",
       "</style>\n",
       "<table border=\"1\" class=\"dataframe\">\n",
       "  <thead>\n",
       "    <tr style=\"text-align: right;\">\n",
       "      <th></th>\n",
       "      <th>Open</th>\n",
       "      <th>High</th>\n",
       "      <th>Low</th>\n",
       "      <th>Close</th>\n",
       "      <th>Adj Close</th>\n",
       "      <th>Volume</th>\n",
       "    </tr>\n",
       "    <tr>\n",
       "      <th>Date</th>\n",
       "      <th></th>\n",
       "      <th></th>\n",
       "      <th></th>\n",
       "      <th></th>\n",
       "      <th></th>\n",
       "      <th></th>\n",
       "    </tr>\n",
       "  </thead>\n",
       "  <tbody>\n",
       "    <tr>\n",
       "      <th>2020-05-26</th>\n",
       "      <td>3004.080078</td>\n",
       "      <td>3021.719971</td>\n",
       "      <td>2988.169922</td>\n",
       "      <td>2991.770020</td>\n",
       "      <td>2991.770020</td>\n",
       "      <td>5837060000</td>\n",
       "    </tr>\n",
       "    <tr>\n",
       "      <th>2020-05-27</th>\n",
       "      <td>3015.649902</td>\n",
       "      <td>3036.250000</td>\n",
       "      <td>2969.750000</td>\n",
       "      <td>3036.129883</td>\n",
       "      <td>3036.129883</td>\n",
       "      <td>6371230000</td>\n",
       "    </tr>\n",
       "    <tr>\n",
       "      <th>2020-05-28</th>\n",
       "      <td>3046.610107</td>\n",
       "      <td>3068.669922</td>\n",
       "      <td>3023.399902</td>\n",
       "      <td>3029.729980</td>\n",
       "      <td>3029.729980</td>\n",
       "      <td>5402670000</td>\n",
       "    </tr>\n",
       "    <tr>\n",
       "      <th>2020-05-29</th>\n",
       "      <td>3025.169922</td>\n",
       "      <td>3049.169922</td>\n",
       "      <td>2998.610107</td>\n",
       "      <td>3044.310059</td>\n",
       "      <td>3044.310059</td>\n",
       "      <td>7275080000</td>\n",
       "    </tr>\n",
       "    <tr>\n",
       "      <th>2020-06-01</th>\n",
       "      <td>3038.780029</td>\n",
       "      <td>3062.179932</td>\n",
       "      <td>3031.540039</td>\n",
       "      <td>3055.729980</td>\n",
       "      <td>3055.729980</td>\n",
       "      <td>4673410000</td>\n",
       "    </tr>\n",
       "  </tbody>\n",
       "</table>\n",
       "</div>"
      ],
      "text/plain": [
       "                   Open         High          Low        Close    Adj Close  \\\n",
       "Date                                                                          \n",
       "2020-05-26  3004.080078  3021.719971  2988.169922  2991.770020  2991.770020   \n",
       "2020-05-27  3015.649902  3036.250000  2969.750000  3036.129883  3036.129883   \n",
       "2020-05-28  3046.610107  3068.669922  3023.399902  3029.729980  3029.729980   \n",
       "2020-05-29  3025.169922  3049.169922  2998.610107  3044.310059  3044.310059   \n",
       "2020-06-01  3038.780029  3062.179932  3031.540039  3055.729980  3055.729980   \n",
       "\n",
       "                Volume  \n",
       "Date                    \n",
       "2020-05-26  5837060000  \n",
       "2020-05-27  6371230000  \n",
       "2020-05-28  5402670000  \n",
       "2020-05-29  7275080000  \n",
       "2020-06-01  4673410000  "
      ]
     },
     "execution_count": 3,
     "metadata": {},
     "output_type": "execute_result"
    }
   ],
   "source": [
    "#Importing data\n",
    "sp500_df = yf.download('^GSPC', \n",
    "                      start = '2020-05-25', \n",
    "                      end = '2021-05-25', \n",
    "                      interval = \"1d\",\n",
    "                      progress = False)\n",
    "sp500_df.head()"
   ]
  },
  {
   "cell_type": "code",
   "execution_count": 210,
   "metadata": {},
   "outputs": [],
   "source": [
    "#Saving quotes in the separate variable\n",
    "quotes = np.array(sp500_df[\"Close\"])"
   ]
  },
  {
   "cell_type": "code",
   "execution_count": 211,
   "metadata": {},
   "outputs": [
    {
     "data": {
      "image/png": "[encoded data removed]",
      "text/plain": [
       "<Figure size 432x288 with 1 Axes>"
      ]
     },
     "metadata": {
      "needs_background": "light"
     },
     "output_type": "display_data"
    }
   ],
   "source": [
    "#Plotting S&P500 closing quotes\n",
    "plt.plot(sp500_df.index, quotes)\n",
    "\n",
    "#setting plot parameters;\n",
    "plt.title(\"S&P500 Quotes\")\n",
    "plt.xlabel(\"Date\")\n",
    "plt.ylabel(\"Index level (S)\")\n",
    "plt.grid()"
   ]
  },
  {
   "cell_type": "code",
   "execution_count": 212,
   "metadata": {},
   "outputs": [],
   "source": [
    "#Defining functions\n",
    "def lookback_floating_put_price(S0, Smax, vol, r, q, T):\n",
    "    \n",
    "    if S0 == Smax:\n",
    "        return S0\n",
    "    else:\n",
    "        b1 = (np.log(Smax / S0) + (- r + q + 0.5 * vol**2) * T) / (vol * np.sqrt(T))\n",
    "        b2 = b1 - vol * np.sqrt(T)\n",
    "        b3 = (np.log(Smax / S0) + (r - q - 0.5 * vol**2) * T) / (vol * np.sqrt(T))\n",
    "        Y2 = (2 * (r - q - 0.5 * vol**2) * np.log(Smax / S0)) / vol**2\n",
    "\n",
    "        N_b1 = norm.pdf(b1)\n",
    "        N_b2 = norm.pdf(b2)\n",
    "        N_minus_b2 = norm.pdf(-b2)\n",
    "        N_minus_b3 = norm.pdf(-b3)\n",
    "\n",
    "        part1 = Smax * np.exp(-q * T) * (N_b1 - 0.5 * vol**2 / (r - q) * np.exp(Y2) * N_minus_b3)\n",
    "        part2 = S0 * np.exp(-q * T) * (0.5 * vol**2 / (r - q) * N_minus_b2  - N_b2)\n",
    "\n",
    "        return part1 + part2\n",
    "\n",
    "def volatility(array, annual):\n",
    "        return np.std(np.diff(np.log(np.array(array)))) * np.sqrt(annual)"
   ]
  },
  {
   "cell_type": "code",
   "execution_count": 214,
   "metadata": {},
   "outputs": [],
   "source": [
    "#Setting parameters\n",
    "S0 = quotes[0]\n",
    "Smax = np.max(quotes)\n",
    "vol = volatility(quotes, 252)\n",
    "r = 0.0013\n",
    "q = 0\n",
    "T = 2"
   ]
  },
  {
   "cell_type": "code",
   "execution_count": 215,
   "metadata": {},
   "outputs": [
    {
     "data": {
      "text/plain": [
       "-14.446334733776894"
      ]
     },
     "execution_count": 215,
     "metadata": {},
     "output_type": "execute_result"
    }
   ],
   "source": [
    "#Estimating the price \n",
    "lookback_floating_put_price(S0, Smax, vol, r, q, T)"
   ]
  }
 ],
 "metadata": {
  "kernelspec": {
   "display_name": "Python 3",
   "language": "python",
   "name": "python3"
  },
  "language_info": {
   "codemirror_mode": {
    "name": "ipython",
    "version": 3
   },
   "file_extension": ".py",
   "mimetype": "text/x-python",
   "name": "python",
   "nbconvert_exporter": "python",
   "pygments_lexer": "ipython3",
   "version": "3.8.3"
  }
 },
 "nbformat": 4,
 "nbformat_minor": 4
}
