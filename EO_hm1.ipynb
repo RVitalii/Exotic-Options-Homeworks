{
 "cells": [
  {
   "cell_type": "markdown",
   "metadata": {},
   "source": [
    "# HOMEWORK 1: GAMMA OF CASH/ASSET OR NOTHING OPTIONS\n",
    "## Vitalii Rudko\n",
    "## April, 2021"
   ]
  },
  {
   "cell_type": "code",
   "execution_count": 2,
   "metadata": {},
   "outputs": [],
   "source": [
    "#Importing packages \n",
    "import pandas as pd\n",
    "import numpy as np\n",
    "import matplotlib.pyplot as plt\n",
    "from scipy.stats import norm\n",
    "import yfinance as yf"
   ]
  },
  {
   "cell_type": "code",
   "execution_count": 3,
   "metadata": {},
   "outputs": [
    {
     "data": {
      "text/html": [
       "<div>\n",
       "<style scoped>\n",
       "    .dataframe tbody tr th:only-of-type {\n",
       "        vertical-align: middle;\n",
       "    }\n",
       "\n",
       "    .dataframe tbody tr th {\n",
       "        vertical-align: top;\n",
       "    }\n",
       "\n",
       "    .dataframe thead th {\n",
       "        text-align: right;\n",
       "    }\n",
       "</style>\n",
       "<table border=\"1\" class=\"dataframe\">\n",
       "  <thead>\n",
       "    <tr style=\"text-align: right;\">\n",
       "      <th></th>\n",
       "      <th>Open</th>\n",
       "      <th>High</th>\n",
       "      <th>Low</th>\n",
       "      <th>Close</th>\n",
       "      <th>Adj Close</th>\n",
       "      <th>Volume</th>\n",
       "    </tr>\n",
       "    <tr>\n",
       "      <th>Date</th>\n",
       "      <th></th>\n",
       "      <th></th>\n",
       "      <th></th>\n",
       "      <th></th>\n",
       "      <th></th>\n",
       "      <th></th>\n",
       "    </tr>\n",
       "  </thead>\n",
       "  <tbody>\n",
       "    <tr>\n",
       "      <th>2020-04-24</th>\n",
       "      <td>2812.639893</td>\n",
       "      <td>2842.709961</td>\n",
       "      <td>2791.760010</td>\n",
       "      <td>2836.739990</td>\n",
       "      <td>2836.739990</td>\n",
       "      <td>5374480000</td>\n",
       "    </tr>\n",
       "    <tr>\n",
       "      <th>2020-04-27</th>\n",
       "      <td>2854.649902</td>\n",
       "      <td>2887.719971</td>\n",
       "      <td>2852.889893</td>\n",
       "      <td>2878.479980</td>\n",
       "      <td>2878.479980</td>\n",
       "      <td>5194260000</td>\n",
       "    </tr>\n",
       "    <tr>\n",
       "      <th>2020-04-28</th>\n",
       "      <td>2909.959961</td>\n",
       "      <td>2921.149902</td>\n",
       "      <td>2860.709961</td>\n",
       "      <td>2863.389893</td>\n",
       "      <td>2863.389893</td>\n",
       "      <td>5672880000</td>\n",
       "    </tr>\n",
       "    <tr>\n",
       "      <th>2020-04-29</th>\n",
       "      <td>2918.459961</td>\n",
       "      <td>2954.860107</td>\n",
       "      <td>2912.159912</td>\n",
       "      <td>2939.510010</td>\n",
       "      <td>2939.510010</td>\n",
       "      <td>6620140000</td>\n",
       "    </tr>\n",
       "    <tr>\n",
       "      <th>2020-04-30</th>\n",
       "      <td>2930.909912</td>\n",
       "      <td>2930.909912</td>\n",
       "      <td>2892.469971</td>\n",
       "      <td>2912.429932</td>\n",
       "      <td>2912.429932</td>\n",
       "      <td>6523120000</td>\n",
       "    </tr>\n",
       "  </tbody>\n",
       "</table>\n",
       "</div>"
      ],
      "text/plain": [
       "                   Open         High          Low        Close    Adj Close  \\\n",
       "Date                                                                          \n",
       "2020-04-24  2812.639893  2842.709961  2791.760010  2836.739990  2836.739990   \n",
       "2020-04-27  2854.649902  2887.719971  2852.889893  2878.479980  2878.479980   \n",
       "2020-04-28  2909.959961  2921.149902  2860.709961  2863.389893  2863.389893   \n",
       "2020-04-29  2918.459961  2954.860107  2912.159912  2939.510010  2939.510010   \n",
       "2020-04-30  2930.909912  2930.909912  2892.469971  2912.429932  2912.429932   \n",
       "\n",
       "                Volume  \n",
       "Date                    \n",
       "2020-04-24  5374480000  \n",
       "2020-04-27  5194260000  \n",
       "2020-04-28  5672880000  \n",
       "2020-04-29  6620140000  \n",
       "2020-04-30  6523120000  "
      ]
     },
     "execution_count": 3,
     "metadata": {},
     "output_type": "execute_result"
    }
   ],
   "source": [
    "#Importing data\n",
    "sp500_df = yf.download('^GSPC', \n",
    "                      start = '2020-04-25', \n",
    "                      end = '2021-04-25', \n",
    "                      interval = \"1d\",\n",
    "                      progress = False)\n",
    "sp500_df.head()"
   ]
  },
  {
   "cell_type": "code",
   "execution_count": 8,
   "metadata": {},
   "outputs": [],
   "source": [
    "#Calculating returns\n",
    "returns = np.diff(np.log(np.array(sp500_df[\"Close\"])))\n",
    "\n",
    "#Maturity\n",
    "T = 1\n",
    "\n",
    "#Calculating volatility\n",
    "vol = np.std(returns)*np.sqrt(252)\n",
    "\n",
    "#Spot ptice (in points, one point worth $100)\n",
    "S = np.array(range(3825,4175))\n",
    "\n",
    "#Strike price\n",
    "K = 4000\n",
    "\n",
    "#Rsik-free rate (OIS on Effective Funds Rate)\n",
    "#Source: https://www.swapsandbonds.com/\n",
    "r = 0.0013\n",
    "\n",
    "#Dividend yield \n",
    "q = 0"
   ]
  },
  {
   "cell_type": "code",
   "execution_count": 9,
   "metadata": {},
   "outputs": [],
   "source": [
    "#Defining gamma functions for cash or nothing\n",
    "def gamma_c_call(S, K, r, q, vol, T):\n",
    "    #Estimating parameters\n",
    "    d1 = (np.log(S / K) + (r - q + 0.5 * vol**2) * T) / (vol * T**0.5)\n",
    "    d2 = d1 - vol * T**0.5\n",
    "    \n",
    "    #Estimating density function\n",
    "    d2_n = norm.pdf(d2)\n",
    "    #Estimating gamma\n",
    "    gamma = -np.exp(-r * T) * d1 * d2_n / (vol ** 2 * S ** 2 * T)\n",
    "    \n",
    "    #Output\n",
    "    return gamma\n",
    "\n",
    "def gamma_c_put(S, K, r, q, vol, T):\n",
    "    return -gamma_c_call(S, K, r, q, vol, T)\n",
    "\n",
    "#Defining gamma functions for asset or nothing\n",
    "def gamma_a_call(S, K, r, q, vol, T):\n",
    "    #Estimating parameters\n",
    "    d1 = (np.log(S / K) + (r - q + 0.5 * vol**2) * T) / (vol * T**0.5)\n",
    "    d2 = d1 - vol * T**0.5\n",
    "    \n",
    "    #Estimating density function\n",
    "    d1_n = norm.pdf(d1)\n",
    "    \n",
    "    #Estimating gamma\n",
    "    gamma = -np.exp(-q * T) * d2 * d1_n / (vol ** 2 * S * T)\n",
    "    \n",
    "    #Output\n",
    "    return gamma\n",
    "\n",
    "def gamma_a_put(S, K, r, q, vol, T):\n",
    "    return -gamma_a_call(S, K, r, q, vol, T)  "
   ]
  },
  {
   "cell_type": "code",
   "execution_count": 10,
   "metadata": {},
   "outputs": [
    {
     "data": {
      "image/png": "[encoded data removed]",
      "text/plain": [
       "<Figure size 432x288 with 1 Axes>"
      ]
     },
     "metadata": {
      "needs_background": "light"
     },
     "output_type": "display_data"
    }
   ],
   "source": [
    "#Plotting gamma of cash or nothing call \n",
    "plt.plot(S, gamma_c_call(S, K, r, q, vol, T), label = \"$\\Gamma_{Call}$\")\n",
    "\n",
    "#Plotting gamma of cash or nothing put \n",
    "plt.plot(S, gamma_c_put(S, K, r, q, vol, T), label = \"$\\Gamma_{Put}$\")\n",
    "\n",
    "plt.title(\"Gammas of Cash-Or-Nothing Options\")\n",
    "plt.xlabel(\"Index level (S)\")\n",
    "plt.ylabel(\"$\\delta\\Delta$\")\n",
    "plt.legend()\n",
    "plt.grid()"
   ]
  },
  {
   "cell_type": "code",
   "execution_count": 11,
   "metadata": {},
   "outputs": [
    {
     "data": {
      "image/png": "[encoded data removed]",
      "text/plain": [
       "<Figure size 432x288 with 1 Axes>"
      ]
     },
     "metadata": {
      "needs_background": "light"
     },
     "output_type": "display_data"
    }
   ],
   "source": [
    "#Plotting gamma of cash or nothing call \n",
    "plt.plot(S, gamma_a_call(S, K, r, q, vol, T), label = \"$\\Gamma_{Call}$\")\n",
    "\n",
    "#Plotting gamma of cash or nothing put \n",
    "plt.plot(S, gamma_a_put(S, K, r, q, vol, T), label = \"$\\Gamma_{Put}$\")\n",
    "\n",
    "plt.title(\"Gammas of Asset-Or-Nothing Options\")\n",
    "plt.xlabel(\"Index level (S)\")\n",
    "plt.ylabel(\"$\\delta\\Delta$\")\n",
    "plt.legend()\n",
    "plt.grid()"
   ]
  },
  {
   "cell_type": "markdown",
   "metadata": {},
   "source": [
    "## Explanation\n",
    "Both plots represent the second partial derivative of according option price formulas with respect to the spot prices of underlying asset $S$. Therefore they can be interpreted as a rate of change of sensitivity of the option price $\\Delta$ with respect to $S$. In all cases $\\Gamma$ moves as sinusoid, and at the boundaries or a strike price $K$ it is constant, as sensitivity of $\\Delta$ there is low. In terms of probabilities when strike price $K$ is $3\\sigma$ away from the spot price -- the volatility becomes irrelevant, therefore sensitivity is low. Meanwhile, when we are nearby $K$ it increases chances of crossing it, so the sensitivity is high."
   ]
  }
 ],
 "metadata": {
  "kernelspec": {
   "display_name": "Python 3",
   "language": "python",
   "name": "python3"
  },
  "language_info": {
   "codemirror_mode": {
    "name": "ipython",
    "version": 3
   },
   "file_extension": ".py",
   "mimetype": "text/x-python",
   "name": "python",
   "nbconvert_exporter": "python",
   "pygments_lexer": "ipython3",
   "version": "3.8.3"
  }
 },
 "nbformat": 4,
 "nbformat_minor": 4
}
